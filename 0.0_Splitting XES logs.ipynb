{
 "cells": [
  {
   "cell_type": "markdown",
   "metadata": {},
   "source": [
    "# Splitting XES logs"
   ]
  },
  {
   "cell_type": "code",
   "execution_count": null,
   "metadata": {},
   "outputs": [],
   "source": [
    "from IPython.core.display import display, HTML\n",
    "display(HTML(\"<style>.container { width:100% !important; }</style>\"))"
   ]
  },
  {
   "cell_type": "code",
   "execution_count": 1,
   "metadata": {
    "scrolled": false
   },
   "outputs": [
    {
     "name": "stderr",
     "output_type": "stream",
     "text": [
      "/home/bk/anaconda3/lib/python3.7/site-packages/ipykernel_launcher.py:3: DeprecatedWarning: apply is deprecated as of 1.3.0 and will be removed in 2.0.0. Use importer entrypoint instead\n",
      "  This is separate from the ipykernel package so we can avoid doing imports until\n"
     ]
    }
   ],
   "source": [
    "from pm4py.objects.log.importer.xes import factory as xes_import_factory\n",
    "\n",
    "log = xes_import_factory.apply('./data/original.xes')"
   ]
  },
  {
   "cell_type": "code",
   "execution_count": 2,
   "metadata": {},
   "outputs": [
    {
     "name": "stdout",
     "output_type": "stream",
     "text": [
      "length of trace 75326 \n",
      "length of event 475489\n"
     ]
    }
   ],
   "source": [
    "print(\n",
    "'length of trace', len(log),\n",
    "'\\nlength of event', sum(len(trace) for trace in log))"
   ]
  },
  {
   "cell_type": "code",
   "execution_count": 3,
   "metadata": {},
   "outputs": [],
   "source": [
    "from pm4py.algo.filtering.log.attributes import attributes_filter\n",
    "category = attributes_filter.get_attribute_values(log, \"(case)_Item_Category\")"
   ]
  },
  {
   "cell_type": "code",
   "execution_count": 4,
   "metadata": {},
   "outputs": [
    {
     "data": {
      "text/plain": [
       "{'3-way match, invoice before GR': 346305,\n",
       " '3-way match, invoice after GR': 112146,\n",
       " 'Consignment': 16070,\n",
       " '2-way match': 968}"
      ]
     },
     "execution_count": 4,
     "metadata": {},
     "output_type": "execute_result"
    }
   ],
   "source": [
    "category"
   ]
  },
  {
   "cell_type": "code",
   "execution_count": 5,
   "metadata": {},
   "outputs": [],
   "source": [
    "from pm4py.util import constants"
   ]
  },
  {
   "cell_type": "code",
   "execution_count": 6,
   "metadata": {},
   "outputs": [],
   "source": [
    "#3-way match, invoice after GR': 112146,\n",
    "threeway_after = attributes_filter.apply(\n",
    "    log, [\"3-way match, invoice after GR\"],\n",
    "    parameters={constants.PARAMETER_CONSTANT_ATTRIBUTE_KEY: \"(case)_Item_Category\", \"positive\": True}\n",
    ")"
   ]
  },
  {
   "cell_type": "code",
   "execution_count": 7,
   "metadata": {},
   "outputs": [],
   "source": [
    "#3-way match, invoice before GR': 346305,\n",
    "threeway_before = attributes_filter.apply(\n",
    "    log, ['3-way match, invoice before GR'],\n",
    "    parameters={constants.PARAMETER_CONSTANT_ATTRIBUTE_KEY: \"(case)_Item_Category\", \"positive\": True}\n",
    ")"
   ]
  },
  {
   "cell_type": "code",
   "execution_count": 8,
   "metadata": {},
   "outputs": [],
   "source": [
    "# '2-way match': 968\n",
    "twoway = attributes_filter.apply(\n",
    "    log,['2-way match'],\n",
    "    parameters={constants.PARAMETER_CONSTANT_ATTRIBUTE_KEY: \"(case)_Item_Category\",\"positive\": True}\n",
    ")"
   ]
  },
  {
   "cell_type": "code",
   "execution_count": 9,
   "metadata": {},
   "outputs": [],
   "source": [
    "#'Consignment': 16070,\n",
    "consignment = attributes_filter.apply(\n",
    "    log, ['Consignment'],\n",
    "    parameters={constants.PARAMETER_CONSTANT_ATTRIBUTE_KEY: \"(case)_Item_Category\", \"positive\": True}\n",
    ")"
   ]
  },
  {
   "cell_type": "markdown",
   "metadata": {},
   "source": [
    "# EXPORTING"
   ]
  },
  {
   "cell_type": "code",
   "execution_count": 10,
   "metadata": {},
   "outputs": [],
   "source": [
    "from pm4py.objects.log.exporter.xes import exporter as xes_exporter"
   ]
  },
  {
   "cell_type": "code",
   "execution_count": 11,
   "metadata": {},
   "outputs": [],
   "source": [
    "xes_exporter.apply(threeway_after, './data/3way_after.xes')"
   ]
  },
  {
   "cell_type": "code",
   "execution_count": 12,
   "metadata": {},
   "outputs": [],
   "source": [
    "xes_exporter.apply(threeway_before, './data/3way_before.xes')"
   ]
  },
  {
   "cell_type": "code",
   "execution_count": 13,
   "metadata": {
    "scrolled": true
   },
   "outputs": [],
   "source": [
    "xes_exporter.apply(twoway, './data/2way.xes')"
   ]
  },
  {
   "cell_type": "code",
   "execution_count": 14,
   "metadata": {},
   "outputs": [],
   "source": [
    "xes_exporter.apply(consignment, './data/consignment.xes')"
   ]
  },
  {
   "cell_type": "code",
   "execution_count": null,
   "metadata": {},
   "outputs": [],
   "source": []
  }
 ],
 "metadata": {
  "kernelspec": {
   "display_name": "Python 3",
   "language": "python",
   "name": "python3"
  },
  "language_info": {
   "codemirror_mode": {
    "name": "ipython",
    "version": 3
   },
   "file_extension": ".py",
   "mimetype": "text/x-python",
   "name": "python",
   "nbconvert_exporter": "python",
   "pygments_lexer": "ipython3",
   "version": "3.7.3"
  }
 },
 "nbformat": 4,
 "nbformat_minor": 2
}
