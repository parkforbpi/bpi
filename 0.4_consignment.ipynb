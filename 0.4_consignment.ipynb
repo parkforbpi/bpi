{
 "cells": [
  {
   "cell_type": "markdown",
   "metadata": {},
   "source": [
    "# Type4_Consignment"
   ]
  },
  {
   "cell_type": "markdown",
   "metadata": {},
   "source": [
    "This note is prepared to filter out INCOMPLE TRACES. The below criterias are considered to identify them.  \n",
    "\n",
    "#### *  Required activities are not included\n",
    "#### *  Not prper start and End activities\n",
    "#### * Cases with duraion = 0\n",
    "#### * ~~ Accumulated values = 0 ~~ (NOT REQUIRED, AS NO INVOICE REQUIRED)"
   ]
  },
  {
   "cell_type": "code",
   "execution_count": 1,
   "metadata": {},
   "outputs": [
    {
     "data": {
      "text/html": [
       "<style>.container { width:100% !important; }</style>"
      ],
      "text/plain": [
       "<IPython.core.display.HTML object>"
      ]
     },
     "metadata": {},
     "output_type": "display_data"
    }
   ],
   "source": [
    "from IPython.core.display import display, HTML\n",
    "display(HTML(\"<style>.container { width:100% !important; }</style>\"))"
   ]
  },
  {
   "cell_type": "markdown",
   "metadata": {},
   "source": [
    "# IMPORTING"
   ]
  },
  {
   "cell_type": "code",
   "execution_count": 2,
   "metadata": {},
   "outputs": [],
   "source": [
    "from pm4py.objects.log.importer.xes import importer as xes_importer\n",
    "log = xes_importer.apply('./data/consignment.xes')"
   ]
  },
  {
   "cell_type": "code",
   "execution_count": 3,
   "metadata": {},
   "outputs": [
    {
     "name": "stdout",
     "output_type": "stream",
     "text": [
      "Number of trace 6866 \n",
      "Number of events 16070\n"
     ]
    }
   ],
   "source": [
    "print(\n",
    "    \"Number of trace\", len(log),\n",
    "    \"\\nNumber of events\", sum([len(trace) for trace in log])\n",
    ")"
   ]
  },
  {
   "cell_type": "markdown",
   "metadata": {},
   "source": [
    "# FILTERING "
   ]
  },
  {
   "cell_type": "markdown",
   "metadata": {},
   "source": [
    "## 1. Filtering by variants\n",
    "\n",
    "\n",
    "<b> CASE I  </b>\n",
    "* Create Purchase Order Item  \n",
    "* ~~ Clear Invoice ~~ (NOT REQUIRED)\n",
    "* Record Goods Receipt  \n",
    "    \n",
    "     \n",
    "<b> CASE II </b>\n",
    "* 'Create Purchase Order Item'  \n",
    "* 'Delete Purchase Order Item'  \n"
   ]
  },
  {
   "cell_type": "code",
   "execution_count": 4,
   "metadata": {},
   "outputs": [],
   "source": [
    "from pm4py.algo.filtering.log.variants import variants_filter\n",
    "variants = variants_filter.get_variants(log)"
   ]
  },
  {
   "cell_type": "code",
   "execution_count": 5,
   "metadata": {},
   "outputs": [],
   "source": [
    "from pm4py.statistics.traces.log import case_statistics\n",
    "\n",
    "variants_count = case_statistics.get_variant_statistics(log)\n",
    "variants_count = sorted(variants_count, key=lambda x: x['count'], reverse=True)"
   ]
  },
  {
   "cell_type": "code",
   "execution_count": 6,
   "metadata": {},
   "outputs": [],
   "source": [
    "# Filtering out\n",
    "search=[]\n",
    "for variant in variants_count :\n",
    "    try : \n",
    "        location_PO=variant['variant'].rfind('Create Purchase Order Item')\n",
    "        location_goodreceipt=variant['variant'].rfind('Record Goods Receipt')\n",
    "        location_delete = variant['variant'].rfind('Delete Purchase Order Item')\n",
    "        # case I : PO, goodreceipt\n",
    "        if (location_goodreceipt>-1) and (location_PO>-1):  \n",
    "            search.append(variant['variant'])\n",
    "            \n",
    "        # case II : PO, delete \n",
    "        # PO exist and the last activity is Delete Purchase Order Item (==Cancellation)\n",
    "        if (location_PO>-1) and (len(variant['variant']) == location_delete + len('Delete Purchase Order Item')) : \n",
    "            search.append(variant['variant'])\n",
    "    except:\n",
    "        pass\n",
    "   "
   ]
  },
  {
   "cell_type": "code",
   "execution_count": 7,
   "metadata": {},
   "outputs": [
    {
     "name": "stdout",
     "output_type": "stream",
     "text": [
      "The number of filtered traces :  6850\n"
     ]
    }
   ],
   "source": [
    "log = variants_filter.apply(log, search)\n",
    "print(\"The number of filtered traces : \", len(log))"
   ]
  },
  {
   "cell_type": "markdown",
   "metadata": {},
   "source": [
    "## 2. Filtering by Start and End activities "
   ]
  },
  {
   "cell_type": "markdown",
   "metadata": {},
   "source": [
    "#### The below are considered as COMPLETE  \n",
    "\n",
    "Traces starting with \n",
    "* Create Purchase Order Item': 6744, \n",
    "* Create Purchase Requisition Item': 106}\n",
    "  \n",
    "  \n",
    "    \n",
    "Traces ending with   \n",
    "* Record Goods Receipt': 6538,\n",
    "* Delete Purchase Order Item': 182,\n",
    "\n",
    "\n",
    "#### The below are REMOVED \n",
    "\n",
    "Traces starting with \n",
    "* 'Vendor creates invoice'  \n",
    "  \n",
    "  \n",
    "    \n",
    "Traces ending with   \n",
    "* 'Change Quantity': 23,  \n",
    "* 'Change Delivery Indicator': 75,  \n",
    "* 'Receive Order Confirmation': 4,  \n",
    "* 'Reactivate Purchase Order Item': 2,  \n",
    "* 'Cancel Goods Receipt': 25,\n",
    "* 'Update Order Confirmation': 1"
   ]
  },
  {
   "cell_type": "code",
   "execution_count": 8,
   "metadata": {},
   "outputs": [],
   "source": [
    "from pm4py.algo.filtering.log.start_activities import start_activities_filter\n",
    "from pm4py.algo.filtering.log.end_activities import end_activities_filter\n",
    "\n",
    "log_start = start_activities_filter.get_start_activities(log)\n",
    "log_end = end_activities_filter.get_end_activities(log)"
   ]
  },
  {
   "cell_type": "code",
   "execution_count": 9,
   "metadata": {
    "scrolled": true
   },
   "outputs": [
    {
     "data": {
      "text/plain": [
       "{'Create Purchase Order Item': 6744, 'Create Purchase Requisition Item': 106}"
      ]
     },
     "execution_count": 9,
     "metadata": {},
     "output_type": "execute_result"
    }
   ],
   "source": [
    "log_start"
   ]
  },
  {
   "cell_type": "code",
   "execution_count": 10,
   "metadata": {
    "scrolled": false
   },
   "outputs": [
    {
     "data": {
      "text/plain": [
       "{'Change Quantity': 23,\n",
       " 'Record Goods Receipt': 6538,\n",
       " 'Delete Purchase Order Item': 182,\n",
       " 'Change Delivery Indicator': 75,\n",
       " 'Receive Order Confirmation': 4,\n",
       " 'Reactivate Purchase Order Item': 2,\n",
       " 'Cancel Goods Receipt': 25,\n",
       " 'Update Order Confirmation': 1}"
      ]
     },
     "execution_count": 10,
     "metadata": {},
     "output_type": "execute_result"
    }
   ],
   "source": [
    "log_end"
   ]
  },
  {
   "cell_type": "code",
   "execution_count": 11,
   "metadata": {},
   "outputs": [
    {
     "name": "stdout",
     "output_type": "stream",
     "text": [
      "The number of filtered traces :  6720\n"
     ]
    }
   ],
   "source": [
    "log = start_activities_filter.apply(log, ['Create Purchase Order Item','Create Purchase Requisition Item' ])\n",
    "log = end_activities_filter.apply(log, ['Record Goods Receipt', 'Delete Purchase Order Item'])\n",
    "print(\"The number of filtered traces : \", len(log))"
   ]
  },
  {
   "cell_type": "markdown",
   "metadata": {},
   "source": [
    "## 3. Filtering by case_performance =0  \n",
    "this means the durations of the traces are 0, which are logically wrong. "
   ]
  },
  {
   "cell_type": "code",
   "execution_count": 32,
   "metadata": {},
   "outputs": [],
   "source": [
    "from pm4py.algo.filtering.log.cases import case_filter\n",
    "log = case_filter.filter_on_case_performance(log, 1, float('inf'))"
   ]
  },
  {
   "cell_type": "code",
   "execution_count": 33,
   "metadata": {},
   "outputs": [
    {
     "name": "stdout",
     "output_type": "stream",
     "text": [
      "The number of filtered traces :  6708\n"
     ]
    }
   ],
   "source": [
    "print(\"The number of filtered traces : \", len(log))"
   ]
  },
  {
   "cell_type": "markdown",
   "metadata": {},
   "source": [
    "## ~~ 4. Filtering by cumulative_neet_worth_(EUR) =0 ~~ (NOT REQUIRED IN THIS TYPE)\n"
   ]
  },
  {
   "cell_type": "markdown",
   "metadata": {},
   "source": [
    "# EXPORTING THE FILTERED LOG "
   ]
  },
  {
   "cell_type": "code",
   "execution_count": 34,
   "metadata": {
    "scrolled": true
   },
   "outputs": [
    {
     "name": "stderr",
     "output_type": "stream",
     "text": [
      "/home/bk/anaconda3/lib/python3.7/site-packages/ipykernel_launcher.py:2: DeprecatedWarning: export_log is deprecated as of 1.3.0 and will be removed in 2.0.0. Use exporter entrypoint instead\n",
      "  \n"
     ]
    }
   ],
   "source": [
    "from pm4py.objects.log.exporter.xes import factory as xes_exporter\n",
    "xes_exporter.export_log(log, \"./data/filtered_consignment.xes\")"
   ]
  },
  {
   "cell_type": "code",
   "execution_count": null,
   "metadata": {},
   "outputs": [],
   "source": []
  }
 ],
 "metadata": {
  "kernelspec": {
   "display_name": "Python 3",
   "language": "python",
   "name": "python3"
  },
  "language_info": {
   "codemirror_mode": {
    "name": "ipython",
    "version": 3
   },
   "file_extension": ".py",
   "mimetype": "text/x-python",
   "name": "python",
   "nbconvert_exporter": "python",
   "pygments_lexer": "ipython3",
   "version": "3.7.3"
  }
 },
 "nbformat": 4,
 "nbformat_minor": 2
}
